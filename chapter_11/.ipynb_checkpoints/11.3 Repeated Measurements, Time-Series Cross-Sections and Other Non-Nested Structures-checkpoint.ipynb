{
 "cells": [
  {
   "cell_type": "code",
   "execution_count": 70,
   "id": "8a2aebc7",
   "metadata": {},
   "outputs": [],
   "source": [
    "import pandas as pd\n",
    "import numpy as np\n",
    "from jax import random, numpy as jnp\n",
    "from numpyro import distributions as dist\n",
    "import numpyro\n",
    "import arviz\n",
    "from matplotlib import pyplot as plt\n",
    "\n",
    "\n",
    "\n",
    "def get_mcmc(\n",
    "    model,\n",
    "    num_samples,\n",
    "    num_warmup,\n",
    "    model_kwargs,\n",
    "    num_chains=1\n",
    "):\n",
    "    nuts = numpyro.infer.NUTS(model)\n",
    "    mcmc = numpyro.infer.MCMC(\n",
    "        nuts,\n",
    "        num_chains=num_chains,\n",
    "        num_samples=num_samples,\n",
    "        num_warmup=num_warmup\n",
    "    )\n",
    "    mcmc.run(**model_kwargs, rng_key=random.PRNGKey(0))\n",
    "    return mcmc\n",
    "    "
   ]
  },
  {
   "cell_type": "markdown",
   "id": "4cff5176",
   "metadata": {},
   "source": [
    "# Loading the Data\n",
    "First, we load the data from the book's website. I'm not quite sure why, but the data from the website doesn't contain the exact same fields - we only whether or not a parent is a smoker, instead of the number of parents that are smokers. This shouldn't materially change the model for our purposes."
   ]
  },
  {
   "cell_type": "code",
   "execution_count": 36,
   "id": "d270be72",
   "metadata": {},
   "outputs": [],
   "source": [
    "data = (\n",
    "    pd.read_table(\n",
    "        \"http://www.stat.columbia.edu/~gelman/arm/examples/smoking/smoke_pub.dat\",\n",
    "        #skiprows=1,\n",
    "        sep='\\t',\n",
    "        #header=None,\n",
    "    )\n",
    "  \n",
    ")"
   ]
  },
  {
   "cell_type": "markdown",
   "id": "ee99aaa1",
   "metadata": {},
   "source": [
    "# Implementing the Model\n",
    "This is a pretty simple model. We have a few coefficients, and a person-level intercept. As in Equation 11.3:\n",
    "$$\n",
    "Pr(y_{jt}) = \\beta_0 +\\beta_1 \\textrm{psmoke_j} + \\beta_2 \\textrm{female}_j + \n",
    "\\beta_3 (1 - \\textrm{female}_j) t + \\beta_4 \\textrm{female}_j\n",
    "$$"
   ]
  },
  {
   "cell_type": "code",
   "execution_count": 57,
   "id": "51585f84",
   "metadata": {},
   "outputs": [
    {
     "name": "stderr",
     "output_type": "stream",
     "text": [
      "sample: 100%|███████████████████████████████████████████████████████████████████████████████| 2000/2000 [00:43<00:00, 46.09it/s, 31 steps of size 1.36e-01. acc. prob=0.89]\n"
     ]
    }
   ],
   "source": [
    "def repeated_measurements_model(person_id, female, psmoke, wave, is_smoker):\n",
    "    beta_0 = numpyro.sample('beta_0', dist.Normal(0, 1))\n",
    "    beta_1 = numpyro.sample('beta_1_psmoke', dist.Normal(0, 1))\n",
    "    beta_2 = numpyro.sample('beta_2_female', dist.Normal(0, 1))\n",
    "    beta_3 = numpyro.sample('beta_3_male_t_int', dist.Normal(0, 1))\n",
    "    beta_4 = numpyro.sample('beta_4_female_t_int', dist.Normal(0, 1))\n",
    "    \n",
    "    with numpyro.plate('person_intercepts', len(set(person_id))):\n",
    "        alpha_j = numpyro.sample('alpha_j', dist.Normal(0, 1))\n",
    "\n",
    "    with numpyro.plate('data', len(person_id)):\n",
    "        y = numpyro.sample(\n",
    "            'y',\n",
    "            dist.Normal(\n",
    "                beta_0 + beta_1 * psmoke + beta_2 * female + \n",
    "                beta_3 * (1 - female) * wave + \n",
    "                beta_4 * female * wave + \n",
    "                alpha_j[person_id]\n",
    "            ),\n",
    "            obs=is_smoker\n",
    "        )\n",
    "\n",
    "mcmc = get_mcmc(\n",
    "    model=repeated_measurements_model,\n",
    "    num_samples=1000, \n",
    "    num_warmup=1000, \n",
    "    model_kwargs=dict(\n",
    "        person_id=jnp.array(data['newid'].values),\n",
    "        female=jnp.array(data['sex(1=F)'].values),\n",
    "        psmoke=jnp.array(data['parsmk'].values),\n",
    "        wave=jnp.array(data['wave'].values),\n",
    "        is_smoker=jnp.array(data['smkreg'].values)\n",
    "    )\n",
    ")"
   ]
  },
  {
   "cell_type": "code",
   "execution_count": 61,
   "id": "dab5ad08",
   "metadata": {},
   "outputs": [],
   "source": [
    "az = arviz.from_numpyro(posterior=mcmc)"
   ]
  },
  {
   "cell_type": "code",
   "execution_count": 81,
   "id": "8de4e583",
   "metadata": {},
   "outputs": [
    {
     "data": {
      "text/plain": [
       "array([<AxesSubplot:title={'center':'94.0% HDI'}>], dtype=object)"
      ]
     },
     "execution_count": 81,
     "metadata": {},
     "output_type": "execute_result"
    },
    {
     "data": {
      "image/png": "[encoded data removed]",
      "text/plain": [
       "<Figure size 432x288 with 1 Axes>"
      ]
     },
     "metadata": {
      "needs_background": "light"
     },
     "output_type": "display_data"
    }
   ],
   "source": [
    "ax, fig = plt.subplots()\n",
    "fig.axvline(x=0, color='black',)\n",
    "arviz.plot_forest(\n",
    "    az, \n",
    "    filter_vars='like', \n",
    "    var_names=['beta'],\n",
    "    ax=fig\n",
    ")"
   ]
  },
  {
   "cell_type": "code",
   "execution_count": null,
   "id": "22a43a17",
   "metadata": {},
   "outputs": [],
   "source": []
  }
 ],
 "metadata": {
  "kernelspec": {
   "display_name": "Python 3 (ipykernel)",
   "language": "python",
   "name": "python3"
  },
  "language_info": {
   "codemirror_mode": {
    "name": "ipython",
    "version": 3
   },
   "file_extension": ".py",
   "mimetype": "text/x-python",
   "name": "python",
   "nbconvert_exporter": "python",
   "pygments_lexer": "ipython3",
   "version": "3.9.7"
  }
 },
 "nbformat": 4,
 "nbformat_minor": 5
}
